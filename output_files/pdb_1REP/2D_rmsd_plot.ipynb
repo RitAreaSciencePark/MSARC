{
 "cells": [
  {
   "cell_type": "code",
   "execution_count": 1,
   "id": "dd200a57",
   "metadata": {},
   "outputs": [
    {
     "name": "stderr",
     "output_type": "stream",
     "text": [
      "/home/vpiompon/anaconda3/lib/python3.11/site-packages/Bio/pairwise2.py:278: BiopythonDeprecationWarning: Bio.pairwise2 has been deprecated, and we intend to remove it in a future release of Biopython. As an alternative, please consider using Bio.Align.PairwiseAligner as a replacement, and contact the Biopython developers if you still need the Bio.pairwise2 module.\n",
      "  warnings.warn(\n"
     ]
    }
   ],
   "source": [
    "import mdtraj as md\n",
    "import numpy as np\n",
    "import os\n",
    "from Bio import pairwise2\n",
    "\n",
    "\n",
    "protein='REPE54'\n",
    "#select folder created by parse_AF_output script\n",
    "folder='results'\n",
    "pdb_GS='1rep'\n",
    "pdb_FS='2z9o'"
   ]
  },
  {
   "cell_type": "code",
   "execution_count": 2,
   "id": "7acba2c5",
   "metadata": {},
   "outputs": [],
   "source": [
    "fullMSA=md.load(folder+'/fullMSA_noH.pdb')\n",
    "GS=md.load(pdb_GS+'.pdb')\n",
    "FS=md.load(pdb_FS+'.pdb')\n",
    "\n",
    "\n",
    "\n",
    "clusters = []\n",
    "\n",
    "# Sort filenames numerically based on the number after 'clus'\n",
    "def extract_cluster_number(filename):\n",
    "    # Extract the number part from 'clusX.pdb'\n",
    "    return int(filename[4:-4])\n",
    "\n",
    "# Get the sorted list of filenames\n",
    "sorted_filenames = sorted(\n",
    "    [f for f in os.listdir(folder) if f.startswith('clus') and f.endswith('.pdb')],\n",
    "    key=extract_cluster_number\n",
    ")\n",
    "\n",
    "for filename in sorted_filenames:\n",
    "    cluster = md.load(os.path.join(folder, filename))\n",
    "    clusters.append(cluster)\n",
    "\n",
    "trajectory = clusters[0]\n",
    "for cluster in clusters[1:]:\n",
    "    trajectory += cluster\n",
    "\n",
    "GS=md.load(pdb_GS+'.pdb')\n",
    "FS=md.load(pdb_FS+'.pdb')\n",
    "\n",
    "#load plDDT and cluster size values from the file written by get-pldtt-cluster_size.sh\n",
    "plddt = np.load(folder+'/plddt.npy')\n",
    "cl_size = np.load(folder+'/size.npy')"
   ]
  },
  {
   "cell_type": "code",
   "execution_count": 3,
   "id": "a15e0b1a",
   "metadata": {},
   "outputs": [],
   "source": [
    "backbone_GS=[]\n",
    "backbone_FS=[]\n",
    "backbone_ref=[]\n",
    "app=[]\n",
    "\n",
    "\n",
    "\n",
    "# Dictionary to map three-letter codes to one-letter codes\n",
    "three_to_one = {\n",
    "    \"ALA\": \"A\", \"ARG\": \"R\", \"ASN\": \"N\", \"ASP\": \"D\", \"CYS\": \"C\",\n",
    "    \"GLU\": \"E\", \"GLN\": \"Q\", \"GLY\": \"G\", \"HIS\": \"H\", \"ILE\": \"I\",\n",
    "    \"LEU\": \"L\", \"LYS\": \"K\", \"MET\": \"M\", \"PHE\": \"F\", \"PRO\": \"P\",\n",
    "    \"SER\": \"S\", \"THR\": \"T\", \"TRP\": \"W\", \"TYR\": \"Y\", \"VAL\": \"V\"\n",
    "}\n",
    "\n",
    "\n",
    "with open(folder+'/fullMSA_noH.pdb', 'r') as file:\n",
    "    for index, line in enumerate(file):\n",
    "        columns = line.strip().split()\n",
    "        if len(columns) >= 4 and (columns[2] == \"C\"):\n",
    "            backbone_ref.append(index+1)\n",
    "            app.append(columns[3])\n",
    "res_ref= \"\".join([three_to_one[aa] for aa in app])\n",
    "app=[]\n",
    "  \n",
    "\n",
    "with open(pdb_GS+'.pdb', 'r') as file:\n",
    "    for index, line in enumerate(file):\n",
    "        columns = line.strip().split()\n",
    "        if len(columns) >= 4 and (columns[2] == \"C\"):\n",
    "            backbone_GS.append(index+1)\n",
    "            app.append(columns[3])\n",
    "            \n",
    "res_GS= \"\".join([three_to_one[aa] for aa in app])\n",
    "app=[]      \n",
    "\n",
    "with open(pdb_FS+'.pdb', 'r') as file:\n",
    "    for index, line in enumerate(file):\n",
    "        columns = line.strip().split()\n",
    "        if len(columns) >= 4 and (columns[2] == \"C\"):\n",
    "            backbone_FS.append(index+1)\n",
    "            app.append(columns[3])\n",
    "            \n",
    "res_FS= \"\".join([three_to_one[aa] for aa in app])      \n",
    "\n",
    "\n",
    "\n",
    "\n"
   ]
  },
  {
   "cell_type": "code",
   "execution_count": 4,
   "id": "f47a611d",
   "metadata": {},
   "outputs": [],
   "source": [
    "alignments = pairwise2.align.globalxx(res_ref, res_GS)\n",
    "ind_GS = [index for index, char in enumerate(alignments[0][1]) if char != '-']\n"
   ]
  },
  {
   "cell_type": "code",
   "execution_count": 5,
   "id": "6a13f046",
   "metadata": {},
   "outputs": [
    {
     "data": {
      "text/plain": [
       "'MAETAVINHKKRKNSPRIVQSNDLTEAAYSLSRDQKRMLYLFVDQIRKSDGTLQEHDGICEIHVAKYAEIFGLTSAEASKDIRQALKSFAGKEVVFYRPEEDAGDEKGYESFPWFIKPAHSPSRGLYSVHINPYLIPFFIGLQNRFTQFRLSETKEITNPYAMRLYESLCQYRKPDGSGIVSLKIDWIIERYQLPQSYQRMPDFRRRFLQVCVNEINSRTPMRLSYIEKKKGRQTTHIVFSFRDITSMTTG'"
      ]
     },
     "execution_count": 5,
     "metadata": {},
     "output_type": "execute_result"
    }
   ],
   "source": [
    "alignments[0][0]"
   ]
  },
  {
   "cell_type": "code",
   "execution_count": 6,
   "id": "364c7950",
   "metadata": {},
   "outputs": [
    {
     "data": {
      "text/plain": [
       "'--------------SPRIVQSNDLTEAAYSLSRDQKRMLYLFVDQIRKS------HDGICEIHVAKYAEIFGLTSAEASKDIRQALKSFAGKEVVF------------YESFPWFIKPAHSPSRGLYSVHINPYLIPFFIGLQNRFTQFRLSETKEITNPYAMRLYESLCQYRKPDGSGIVSLKIDWIIERYQLPQSYQRMPDFRRRFLQVCVNEINSRTPMRLSYIEKKKGRQTTHIVFSFRDI----T-'"
      ]
     },
     "execution_count": 6,
     "metadata": {},
     "output_type": "execute_result"
    }
   ],
   "source": [
    "alignments[0][1]"
   ]
  },
  {
   "cell_type": "code",
   "execution_count": 7,
   "id": "19e36837",
   "metadata": {},
   "outputs": [],
   "source": [
    "ind_GS[-1]=ind_GS[-2]+1"
   ]
  },
  {
   "cell_type": "code",
   "execution_count": 8,
   "id": "9a6ca744",
   "metadata": {},
   "outputs": [
    {
     "data": {
      "text/plain": [
       "[14,\n",
       " 15,\n",
       " 16,\n",
       " 17,\n",
       " 18,\n",
       " 19,\n",
       " 20,\n",
       " 21,\n",
       " 22,\n",
       " 23,\n",
       " 24,\n",
       " 25,\n",
       " 26,\n",
       " 27,\n",
       " 28,\n",
       " 29,\n",
       " 30,\n",
       " 31,\n",
       " 32,\n",
       " 33,\n",
       " 34,\n",
       " 35,\n",
       " 36,\n",
       " 37,\n",
       " 38,\n",
       " 39,\n",
       " 40,\n",
       " 41,\n",
       " 42,\n",
       " 43,\n",
       " 44,\n",
       " 45,\n",
       " 46,\n",
       " 47,\n",
       " 48,\n",
       " 55,\n",
       " 56,\n",
       " 57,\n",
       " 58,\n",
       " 59,\n",
       " 60,\n",
       " 61,\n",
       " 62,\n",
       " 63,\n",
       " 64,\n",
       " 65,\n",
       " 66,\n",
       " 67,\n",
       " 68,\n",
       " 69,\n",
       " 70,\n",
       " 71,\n",
       " 72,\n",
       " 73,\n",
       " 74,\n",
       " 75,\n",
       " 76,\n",
       " 77,\n",
       " 78,\n",
       " 79,\n",
       " 80,\n",
       " 81,\n",
       " 82,\n",
       " 83,\n",
       " 84,\n",
       " 85,\n",
       " 86,\n",
       " 87,\n",
       " 88,\n",
       " 89,\n",
       " 90,\n",
       " 91,\n",
       " 92,\n",
       " 93,\n",
       " 94,\n",
       " 95,\n",
       " 108,\n",
       " 109,\n",
       " 110,\n",
       " 111,\n",
       " 112,\n",
       " 113,\n",
       " 114,\n",
       " 115,\n",
       " 116,\n",
       " 117,\n",
       " 118,\n",
       " 119,\n",
       " 120,\n",
       " 121,\n",
       " 122,\n",
       " 123,\n",
       " 124,\n",
       " 125,\n",
       " 126,\n",
       " 127,\n",
       " 128,\n",
       " 129,\n",
       " 130,\n",
       " 131,\n",
       " 132,\n",
       " 133,\n",
       " 134,\n",
       " 135,\n",
       " 136,\n",
       " 137,\n",
       " 138,\n",
       " 139,\n",
       " 140,\n",
       " 141,\n",
       " 142,\n",
       " 143,\n",
       " 144,\n",
       " 145,\n",
       " 146,\n",
       " 147,\n",
       " 148,\n",
       " 149,\n",
       " 150,\n",
       " 151,\n",
       " 152,\n",
       " 153,\n",
       " 154,\n",
       " 155,\n",
       " 156,\n",
       " 157,\n",
       " 158,\n",
       " 159,\n",
       " 160,\n",
       " 161,\n",
       " 162,\n",
       " 163,\n",
       " 164,\n",
       " 165,\n",
       " 166,\n",
       " 167,\n",
       " 168,\n",
       " 169,\n",
       " 170,\n",
       " 171,\n",
       " 172,\n",
       " 173,\n",
       " 174,\n",
       " 175,\n",
       " 176,\n",
       " 177,\n",
       " 178,\n",
       " 179,\n",
       " 180,\n",
       " 181,\n",
       " 182,\n",
       " 183,\n",
       " 184,\n",
       " 185,\n",
       " 186,\n",
       " 187,\n",
       " 188,\n",
       " 189,\n",
       " 190,\n",
       " 191,\n",
       " 192,\n",
       " 193,\n",
       " 194,\n",
       " 195,\n",
       " 196,\n",
       " 197,\n",
       " 198,\n",
       " 199,\n",
       " 200,\n",
       " 201,\n",
       " 202,\n",
       " 203,\n",
       " 204,\n",
       " 205,\n",
       " 206,\n",
       " 207,\n",
       " 208,\n",
       " 209,\n",
       " 210,\n",
       " 211,\n",
       " 212,\n",
       " 213,\n",
       " 214,\n",
       " 215,\n",
       " 216,\n",
       " 217,\n",
       " 218,\n",
       " 219,\n",
       " 220,\n",
       " 221,\n",
       " 222,\n",
       " 223,\n",
       " 224,\n",
       " 225,\n",
       " 226,\n",
       " 227,\n",
       " 228,\n",
       " 229,\n",
       " 230,\n",
       " 231,\n",
       " 232,\n",
       " 233,\n",
       " 234,\n",
       " 235,\n",
       " 236,\n",
       " 237,\n",
       " 238,\n",
       " 239,\n",
       " 240,\n",
       " 241,\n",
       " 242,\n",
       " 243,\n",
       " 244,\n",
       " 245]"
      ]
     },
     "execution_count": 8,
     "metadata": {},
     "output_type": "execute_result"
    }
   ],
   "source": [
    "ind_GS"
   ]
  },
  {
   "cell_type": "code",
   "execution_count": 9,
   "id": "5d9df6b1",
   "metadata": {},
   "outputs": [],
   "source": [
    "alignments = pairwise2.align.globalxx(res_ref, res_FS)\n",
    "ind_FS = [index for index, char in enumerate(alignments[0][1]) if char != '-']"
   ]
  },
  {
   "cell_type": "code",
   "execution_count": 10,
   "id": "1f3641f1",
   "metadata": {},
   "outputs": [
    {
     "data": {
      "text/plain": [
       "'MAETAVINHKKRKNSPRIVQSNDLTEAAYSLSRDQKRMLYLFVDQIRKSDGTLQEHDGICEIHVAKYAEIFGLTSAEASKDIRQALKSFAGKEVVFYRPEEDAGDEKGYESFPWFIKPAHSPSRGLYSVHINPYLIPFFIGLQNRFTQFRLSETKEITNPYAMRLYESLCQYRKPDGSGIVSLKIDWIIERYQLPQSYQRMPDFRRRFLQVCVNEINSRTPMRLSYIEKKKGRQTTHIVFSFRDITSMTTG'"
      ]
     },
     "execution_count": 10,
     "metadata": {},
     "output_type": "execute_result"
    }
   ],
   "source": [
    "alignments[0][0]"
   ]
  },
  {
   "cell_type": "code",
   "execution_count": 11,
   "id": "57bb34ae",
   "metadata": {},
   "outputs": [
    {
     "data": {
      "text/plain": [
       "'-------------------QSNDLTEAAYSLSRDQKRMLYLFVDQI----------DGICEIHVAKYAEIFGLTSAEASKDIRQALKSFAGKEVVFYRPEEDAGDEKGYESFPWFIK-AHSPSRGLYSVHINPYLIPFFIGLQNRFTQFRLSETKEITNPYAMRLYESLCQYRKPDGSGIVSLKIDWIIERYQLPQSYQRMPDFRRRFLQVCVNEINSRTPMRLSYIEKKKGRQTTHIVFSFRDITS----'"
      ]
     },
     "execution_count": 11,
     "metadata": {},
     "output_type": "execute_result"
    }
   ],
   "source": [
    "alignments[0][1]"
   ]
  },
  {
   "cell_type": "code",
   "execution_count": 12,
   "id": "4b2b3a21",
   "metadata": {},
   "outputs": [],
   "source": [
    "rmsd_full_GS = md.rmsd(fullMSA, GS, atom_indices=np.array(backbone_ref)[np.array(ind_GS)], ref_atom_indices=np.array(backbone_GS))\n",
    "rmsd_full_FS=md.rmsd(fullMSA, FS, atom_indices=np.array(backbone_ref)[np.array(ind_FS)], ref_atom_indices=np.array(backbone_FS))"
   ]
  },
  {
   "cell_type": "code",
   "execution_count": 13,
   "id": "02fc1623",
   "metadata": {},
   "outputs": [],
   "source": [
    "rmsd_GS = md.rmsd(trajectory, GS, atom_indices=np.array(backbone_ref)[np.array(ind_GS)], ref_atom_indices=np.array(backbone_GS))\n",
    "rmsd_FS = md.rmsd(trajectory, FS, atom_indices=np.array(backbone_ref)[np.array(ind_FS)], ref_atom_indices=np.array(backbone_FS))\n"
   ]
  },
  {
   "cell_type": "code",
   "execution_count": 14,
   "id": "01140f75",
   "metadata": {},
   "outputs": [
    {
     "data": {
      "image/png": "[encoded data removed]",
      "text/plain": [
       "<Figure size 640x480 with 2 Axes>"
      ]
     },
     "metadata": {},
     "output_type": "display_data"
    }
   ],
   "source": [
    "import matplotlib.pyplot as plt\n",
    "\n",
    "plt.title(protein, fontsize=22)\n",
    "sc = plt.scatter(rmsd_GS * 10, rmsd_FS * 10, c=plddt, cmap='rainbow_r', vmin=50, vmax=90, s=cl_size*3, alpha=0.6)\n",
    "cbar = plt.colorbar(sc, label='plDDT')  # Create colorbar and set label\n",
    "\n",
    "# Set font size for colorbar label\n",
    "cbar.ax.yaxis.label.set_fontsize(15)\n",
    "\n",
    "# Plotting a different marker for a specific point\n",
    "plt.scatter(rmsd_full_GS * 10, rmsd_full_FS * 10, marker='*', s=300, label='fullMSA', color='grey')\n",
    "\n",
    "for i, (x, y) in enumerate(zip(rmsd_GS * 10, rmsd_FS * 10)):\n",
    "    plt.text(x, y, str(i+1), fontsize=10, ha='center', va='center', color='black')\n",
    "\n",
    "# Adding dashed lines\n",
    "#plt.axhline(y=4, color='black', linestyle='--')\n",
    "#plt.axvline(x=4, color='black', linestyle='--')\n",
    "\n",
    "# Setting limits and ticks for both axes\n",
    "#plt.xlim([0, 23])\n",
    "#plt.ylim([7, 22])\n",
    "#plt.xticks([4,8,12,16], fontsize=22)\n",
    "#plt.yticks([4,8,12,16], fontsize=22)\n",
    "\n",
    "# Adding labels and legend\n",
    "plt.xlabel('RMSD to '+pdb_GS+' (A°)', fontsize=22)\n",
    "plt.ylabel('RMSD to '+pdb_FS+' (A°)', fontsize=22)\n",
    "plt.legend(fontsize=15)\n",
    "\n",
    "plt.show()"
   ]
  },
  {
   "cell_type": "code",
   "execution_count": 15,
   "id": "18eda804",
   "metadata": {},
   "outputs": [
    {
     "data": {
      "image/png": "[encoded data removed]",
      "text/plain": [
       "<Figure size 640x480 with 2 Axes>"
      ]
     },
     "metadata": {},
     "output_type": "display_data"
    }
   ],
   "source": [
    "plt.title(protein, fontsize=22)\n",
    "sc = plt.scatter(rmsd_GS * 10, rmsd_FS * 10, c=plddt, cmap='rainbow_r', vmin=50, vmax=90, s=cl_size*3, alpha=0.6)\n",
    "cbar = plt.colorbar(sc, label='plDDT')  # Create colorbar and set label\n",
    "\n",
    "# Set font size for colorbar label\n",
    "cbar.ax.yaxis.label.set_fontsize(20)\n",
    "\n",
    "# Plotting a different marker for a specific point\n",
    "plt.scatter(rmsd_full_GS * 10, rmsd_full_FS * 10, marker='*', s=300, label='fullMSA', color='black')\n",
    "\n",
    "\n",
    "# Adding dashed lines\n",
    "#plt.axhline(y=4, color='black', linestyle='--')\n",
    "#plt.axvline(x=4, color='black', linestyle='--')\n",
    "\n",
    "# Setting limits and ticks for both axes\n",
    "#plt.xlim([0, 23])\n",
    "#plt.ylim([7, 22])\n",
    "plt.xticks([3,5,7], fontsize=22)\n",
    "plt.yticks([6,6.5,7], fontsize=22)\n",
    "\n",
    "# Adding labels and legend\n",
    "plt.xlabel('RMSD to '+pdb_GS+' (A°)', fontsize=20)\n",
    "plt.ylabel('RMSD to '+pdb_FS+' (A°)', fontsize=20)\n",
    "#plt.legend(fontsize=15)\n",
    "\n",
    "plt.show()"
   ]
  },
  {
   "cell_type": "code",
   "execution_count": 16,
   "id": "10854161",
   "metadata": {},
   "outputs": [
    {
     "data": {
      "text/plain": [
       "array([3, 5, 7])"
      ]
     },
     "execution_count": 16,
     "metadata": {},
     "output_type": "execute_result"
    }
   ],
   "source": [
    "np.where(rmsd_GS>0.5)[0]+1"
   ]
  },
  {
   "cell_type": "code",
   "execution_count": 17,
   "id": "0d038aad",
   "metadata": {},
   "outputs": [
    {
     "data": {
      "text/plain": [
       "array([1, 2, 4, 6, 8, 9])"
      ]
     },
     "execution_count": 17,
     "metadata": {},
     "output_type": "execute_result"
    }
   ],
   "source": [
    "np.where(rmsd_GS<0.5)[0]+1"
   ]
  },
  {
   "cell_type": "code",
   "execution_count": 18,
   "id": "6589476b",
   "metadata": {},
   "outputs": [],
   "source": [
    "np.save(folder+'/ind_GS',np.where(rmsd_GS<0.5)[0]+1)\n",
    "np.save(folder+'/ind_FS',np.where(rmsd_GS>0.5)[0]+1)"
   ]
  },
  {
   "cell_type": "code",
   "execution_count": null,
   "id": "a4b08e64",
   "metadata": {},
   "outputs": [],
   "source": []
  }
 ],
 "metadata": {
  "kernelspec": {
   "display_name": "Python 3 (ipykernel)",
   "language": "python",
   "name": "python3"
  },
  "language_info": {
   "codemirror_mode": {
    "name": "ipython",
    "version": 3
   },
   "file_extension": ".py",
   "mimetype": "text/x-python",
   "name": "python",
   "nbconvert_exporter": "python",
   "pygments_lexer": "ipython3",
   "version": "3.11.5"
  }
 },
 "nbformat": 4,
 "nbformat_minor": 5
}
