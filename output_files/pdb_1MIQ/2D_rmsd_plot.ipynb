{
 "cells": [
  {
   "cell_type": "code",
   "execution_count": 11,
   "id": "dd200a57",
   "metadata": {},
   "outputs": [],
   "source": [
    "import mdtraj as md\n",
    "import numpy as np\n",
    "import os\n",
    "from Bio import pairwise2\n",
    "\n",
    "\n",
    "protein='P. vivax aspartic proteinase'\n",
    "#select folder created by parse_AF_output script\n",
    "folder='results'\n",
    "pdb_GS='1miq'\n",
    "pdb_FS='1qs8'"
   ]
  },
  {
   "cell_type": "code",
   "execution_count": 12,
   "id": "7acba2c5",
   "metadata": {},
   "outputs": [],
   "source": [
    "fullMSA=md.load(folder+'/fullMSA_noH.pdb')\n",
    "GS=md.load(pdb_GS+'.pdb')\n",
    "FS=md.load(pdb_FS+'.pdb')\n",
    "\n",
    "\n",
    "\n",
    "clusters = []\n",
    "\n",
    "# Sort filenames numerically based on the number after 'clus'\n",
    "def extract_cluster_number(filename):\n",
    "    # Extract the number part from 'clusX.pdb'\n",
    "    return int(filename[4:-4])\n",
    "\n",
    "# Get the sorted list of filenames\n",
    "sorted_filenames = sorted(\n",
    "    [f for f in os.listdir(folder) if f.startswith('clus') and f.endswith('.pdb')],\n",
    "    key=extract_cluster_number\n",
    ")\n",
    "\n",
    "for filename in sorted_filenames:\n",
    "    cluster = md.load(os.path.join(folder, filename))\n",
    "    clusters.append(cluster)\n",
    "\n",
    "trajectory = clusters[0]\n",
    "for cluster in clusters[1:]:\n",
    "    trajectory += cluster\n",
    "\n",
    "GS=md.load(pdb_GS+'.pdb')\n",
    "FS=md.load(pdb_FS+'.pdb')\n",
    "\n",
    "#load plDDT and cluster size values from the file written by get-pldtt-cluster_size.sh\n",
    "plddt = np.load(folder+'/plddt.npy')\n",
    "cl_size = np.load(folder+'/size.npy')"
   ]
  },
  {
   "cell_type": "code",
   "execution_count": 13,
   "id": "a15e0b1a",
   "metadata": {},
   "outputs": [],
   "source": [
    "backbone_GS=[]\n",
    "backbone_FS=[]\n",
    "backbone_ref=[]\n",
    "app=[]\n",
    "\n",
    "\n",
    "\n",
    "# Dictionary to map three-letter codes to one-letter codes\n",
    "three_to_one = {\n",
    "    \"ALA\": \"A\", \"ARG\": \"R\", \"ASN\": \"N\", \"ASP\": \"D\", \"CYS\": \"C\",\n",
    "    \"GLU\": \"E\", \"GLN\": \"Q\", \"GLY\": \"G\", \"HIS\": \"H\", \"ILE\": \"I\",\n",
    "    \"LEU\": \"L\", \"LYS\": \"K\", \"MET\": \"M\", \"PHE\": \"F\", \"PRO\": \"P\",\n",
    "    \"SER\": \"S\", \"THR\": \"T\", \"TRP\": \"W\", \"TYR\": \"Y\", \"VAL\": \"V\"\n",
    "}\n",
    "\n",
    "\n",
    "with open(folder+'/fullMSA_noH.pdb', 'r') as file:\n",
    "    for index, line in enumerate(file):\n",
    "        columns = line.strip().split()\n",
    "        if len(columns) >= 4 and (columns[2] == \"C\"):\n",
    "            backbone_ref.append(index+1)\n",
    "            app.append(columns[3])\n",
    "res_ref= \"\".join([three_to_one[aa] for aa in app])\n",
    "app=[]\n",
    "  \n",
    "\n",
    "with open(pdb_GS+'.pdb', 'r') as file:\n",
    "    for index, line in enumerate(file):\n",
    "        columns = line.strip().split()\n",
    "        if len(columns) >= 4 and (columns[2] == \"C\"):\n",
    "            backbone_GS.append(index+1)\n",
    "            app.append(columns[3])\n",
    "            \n",
    "res_GS= \"\".join([three_to_one[aa] for aa in app])\n",
    "app=[]      \n",
    "\n",
    "with open(pdb_FS+'.pdb', 'r') as file:\n",
    "    for index, line in enumerate(file):\n",
    "        columns = line.strip().split()\n",
    "        if len(columns) >= 4 and (columns[2] == \"C\"):\n",
    "            backbone_FS.append(index+1)\n",
    "            app.append(columns[3])\n",
    "            \n",
    "res_FS= \"\".join([three_to_one[aa] for aa in app])      \n",
    "\n",
    "\n",
    "\n",
    "\n"
   ]
  },
  {
   "cell_type": "code",
   "execution_count": 14,
   "id": "f47a611d",
   "metadata": {},
   "outputs": [],
   "source": [
    "alignments = pairwise2.align.globalxx(res_ref, res_GS)\n",
    "ind_GS = [index for index, char in enumerate(alignments[0][1]) if char != '-']\n"
   ]
  },
  {
   "cell_type": "code",
   "execution_count": 15,
   "id": "6a13f046",
   "metadata": {},
   "outputs": [
    {
     "data": {
      "text/plain": [
       "'TEHLTLAFKIERPYDKVLKTISKKNLKNYIKETFNFFKSGYMKQNYLGSENDVIELDDVANIMFYGEGEVGDNHQKFMLIFDTGSANLWVPSKKCNSSGCSIKNLYDSSKSKSYEKDGTKVDITYGSGTVKGFFSKDLVTLGHLSMPYKFIEVTDTDDLEPIYSSVEFDGILGLGWKDLSIGSIDPIVVELKNQNKIDNALFTFYLPVHDVHAGYLTIGGIEEKFYEGNITYEKLNHDLYWQIDLDVHFGKQTMEKANVIVDSGTTTITAPSEFLNKFFANLNVIKVPFLPFYVTTCDNKEMPTLEFKSANNTYTLEPEYYMNPILEVDDTLCMITMLPVDIDSNTFILGDPFMRKYFTVFDYDKESVGFAIAKN'"
      ]
     },
     "execution_count": 15,
     "metadata": {},
     "output_type": "execute_result"
    }
   ],
   "source": [
    "alignments[0][0]"
   ]
  },
  {
   "cell_type": "code",
   "execution_count": 16,
   "id": "364c7950",
   "metadata": {},
   "outputs": [
    {
     "data": {
      "text/plain": [
       "'TEHLTLAFKIERPYDKVLKTISKKNLKNYIKETFNFFKSGYMKQNYLGSENDVIELDDVANIMFYGEGEVGDNHQKFMLIFDTGSANLWVPSKKCNSSGCSIKNLYDSSKSKSYEKDGTKVDITYGSGTVKGFFSKDLVTLGHLSMPYKFIEVTDTDDLEPIYSSVEFDGILGLGWKDLSIGSIDPIVVELKNQNKIDNALFTFYLPVHDVHAGYLTIGGIEEKFYEGNITYEKLNHDLYWQIDLDVHFGKQTMEKANVIVDSGTTTITAPSEFLNKFFANLNVIKVPFLPFYVTTCDNKEMPTLEFKSANNTYTLEPEYYMNPILEVDDTLCMITMLPVDIDSNTFILGDPFMRKYFTVFDYDKESVGFAIAKN'"
      ]
     },
     "execution_count": 16,
     "metadata": {},
     "output_type": "execute_result"
    }
   ],
   "source": [
    "alignments[0][1]"
   ]
  },
  {
   "cell_type": "code",
   "execution_count": 27,
   "id": "5d9df6b1",
   "metadata": {},
   "outputs": [],
   "source": [
    "alignments = pairwise2.align.globalxx(res_ref, res_FS)\n",
    "ind_FS = [(index-1) for index, char in enumerate(alignments[0][1]) if char != '-']"
   ]
  },
  {
   "cell_type": "code",
   "execution_count": 28,
   "id": "1f3641f1",
   "metadata": {},
   "outputs": [
    {
     "data": {
      "text/plain": [
       "'TEHLTLAFKIERPYDKVLKTISKKNLKNYIKETFNFFKSGYMKQNYLGSENDVIELDDVANIMFYGEGEVGDNHQKFMLIFDTGSANLWVPSKKCNSSGCSIKNLYDSSKSKSYEKDGTKVDITYGSGTVKGFFSKDLVTLGHLSMPYKFIEVT-DTDDLEPIYSSVEFDGILGLGWKDLSIGSIDPIVVELKNQNKIDNALFTFYLPVHDVHAGYLTIGGIEEKFYEGNITYEKLNHDLYWQIDLDVHFGKQTMEKANVIVDSGTTTITAPSEFLNKFFANLNVIKVPFLPFYVTTCDNKEMPTLEFKSANNTYTLEPEYYMNPILEVDDTLCMITMLPVDIDSNTFILGDPFMRKYFTVFDYDKESVGFAIAKN'"
      ]
     },
     "execution_count": 28,
     "metadata": {},
     "output_type": "execute_result"
    }
   ],
   "source": [
    "alignments[0][0]"
   ]
  },
  {
   "cell_type": "code",
   "execution_count": 29,
   "id": "57bb34ae",
   "metadata": {},
   "outputs": [
    {
     "data": {
      "text/plain": [
       "'------------------------------------------------SENDVIELDDVANIMFYGEGEVGDNHQKFMLIFDTGSANLWVPSKKCNSSGCSIKNLYDSSKSKSYEKDGTKVDITYGSGTVKGFFSKDLVTLGHLSMPYKFIEV-IDTDDLEPIYSSVEFDGILGLGWKDLSIGSIDPIVVELKNQNKIDNALFTFYLPVHDVHAGYLTIGGIEEKFYEGNITYEKLNHDLYWQIDLDVHFGKQTMEKANVIVDSGTTTITAPSEFLNKFFANLNVIKVPFLPFYVTTCDNKEMPTLEFKSANNTYTLEPEYYMNPILEVDDTLCMITMLPVDIDSNTFILGDPFMRKYFTVFDYDKESVGFAIAKN'"
      ]
     },
     "execution_count": 29,
     "metadata": {},
     "output_type": "execute_result"
    }
   ],
   "source": [
    "alignments[0][1]"
   ]
  },
  {
   "cell_type": "code",
   "execution_count": 22,
   "id": "75dcd10d",
   "metadata": {},
   "outputs": [
    {
     "data": {
      "text/plain": [
       "array([   3,    9,   18,   26,   34,   41,   49,   58,   66,   74,   82,\n",
       "         89,   94,  102,  110,  118,  129,  141,  145,  154,  158,  167,\n",
       "        174,  178,  186,  194,  204,  213,  222,  233,  241,  249,  257,\n",
       "        268,  276,  283,  287,  293,  298,  306,  314,  328,  335,  342,\n",
       "        348,  357,  366,  372,  380,  386,  392,  396,  402,  408,  416,\n",
       "        425,  433,  441,  453,  461,  467,  473,  482,  488,  497,  503,\n",
       "        515,  524,  533,  541,  545,  552,  561,  568,  576,  584,  591,\n",
       "        603,  607,  613,  617,  624,  631,  640,  644,  655,  666,  672,\n",
       "        681,  689,  697,  704,  711,  719,  723,  733,  741,  747,  755,\n",
       "        762,  774,  783,  794,  802,  811,  818,  826,  834,  841,  849,\n",
       "        857,  865,  874,  881,  889,  901,  907,  913,  920,  929,  940,\n",
       "        948,  952,  960,  968,  972,  980,  984,  998, 1007, 1015, 1023,\n",
       "       1029, 1037, 1041, 1047, 1055, 1063, 1070, 1078, 1085, 1092, 1101,\n",
       "       1109, 1118, 1126, 1135, 1143, 1152, 1160, 1168, 1176, 1181, 1189,\n",
       "       1200, 1207, 1218, 1230, 1238, 1245, 1252, 1262, 1270, 1277, 1287,\n",
       "       1292, 1296, 1308, 1316, 1323, 1331, 1335, 1339, 1347, 1356, 1365,\n",
       "       1374, 1385, 1397, 1406, 1410, 1418, 1426, 1433, 1445, 1454, 1463,\n",
       "       1471, 1479, 1489, 1497, 1505, 1517, 1531, 1540, 1548, 1556, 1564,\n",
       "       1572, 1579, 1589, 1600, 1604, 1613, 1622, 1629, 1637, 1646, 1655,\n",
       "       1660, 1668, 1675, 1683, 1690, 1698, 1704, 1708, 1715, 1722, 1729,\n",
       "       1737, 1744, 1749, 1756, 1762, 1771, 1782, 1790, 1798, 1807, 1818,\n",
       "       1829, 1834, 1842, 1850, 1858, 1865, 1873, 1882, 1889, 1896, 1907,\n",
       "       1915, 1922, 1933, 1945, 1952, 1959, 1966, 1972, 1980, 1988, 1997,\n",
       "       2006, 2014, 2021, 2028, 2036, 2045, 2056, 2065, 2071, 2076, 2084,\n",
       "       2092, 2099, 2111, 2118, 2126, 2135, 2142, 2151, 2163, 2175, 2183,\n",
       "       2191, 2198, 2206, 2214, 2223, 2230, 2238, 2246, 2253, 2261, 2267,\n",
       "       2275, 2283, 2290, 2298, 2306, 2313, 2320, 2328, 2336, 2344, 2350,\n",
       "       2358, 2365, 2376, 2384, 2392, 2396, 2404, 2411, 2422, 2430, 2441,\n",
       "       2450, 2462, 2473, 2480, 2487, 2498, 2506, 2518, 2526, 2535, 2544,\n",
       "       2550, 2557, 2561, 2572, 2577, 2585, 2590, 2599])"
      ]
     },
     "execution_count": 22,
     "metadata": {},
     "output_type": "execute_result"
    }
   ],
   "source": [
    "np.array(backbone_FS)"
   ]
  },
  {
   "cell_type": "code",
   "execution_count": 23,
   "id": "b3e54a2e",
   "metadata": {},
   "outputs": [
    {
     "data": {
      "text/plain": [
       "327"
      ]
     },
     "execution_count": 23,
     "metadata": {},
     "output_type": "execute_result"
    }
   ],
   "source": [
    "len(ind_FS)"
   ]
  },
  {
   "cell_type": "code",
   "execution_count": 30,
   "id": "835aa175",
   "metadata": {},
   "outputs": [
    {
     "data": {
      "text/plain": [
       "[47,\n",
       " 48,\n",
       " 49,\n",
       " 50,\n",
       " 51,\n",
       " 52,\n",
       " 53,\n",
       " 54,\n",
       " 55,\n",
       " 56,\n",
       " 57,\n",
       " 58,\n",
       " 59,\n",
       " 60,\n",
       " 61,\n",
       " 62,\n",
       " 63,\n",
       " 64,\n",
       " 65,\n",
       " 66,\n",
       " 67,\n",
       " 68,\n",
       " 69,\n",
       " 70,\n",
       " 71,\n",
       " 72,\n",
       " 73,\n",
       " 74,\n",
       " 75,\n",
       " 76,\n",
       " 77,\n",
       " 78,\n",
       " 79,\n",
       " 80,\n",
       " 81,\n",
       " 82,\n",
       " 83,\n",
       " 84,\n",
       " 85,\n",
       " 86,\n",
       " 87,\n",
       " 88,\n",
       " 89,\n",
       " 90,\n",
       " 91,\n",
       " 92,\n",
       " 93,\n",
       " 94,\n",
       " 95,\n",
       " 96,\n",
       " 97,\n",
       " 98,\n",
       " 99,\n",
       " 100,\n",
       " 101,\n",
       " 102,\n",
       " 103,\n",
       " 104,\n",
       " 105,\n",
       " 106,\n",
       " 107,\n",
       " 108,\n",
       " 109,\n",
       " 110,\n",
       " 111,\n",
       " 112,\n",
       " 113,\n",
       " 114,\n",
       " 115,\n",
       " 116,\n",
       " 117,\n",
       " 118,\n",
       " 119,\n",
       " 120,\n",
       " 121,\n",
       " 122,\n",
       " 123,\n",
       " 124,\n",
       " 125,\n",
       " 126,\n",
       " 127,\n",
       " 128,\n",
       " 129,\n",
       " 130,\n",
       " 131,\n",
       " 132,\n",
       " 133,\n",
       " 134,\n",
       " 135,\n",
       " 136,\n",
       " 137,\n",
       " 138,\n",
       " 139,\n",
       " 140,\n",
       " 141,\n",
       " 142,\n",
       " 143,\n",
       " 144,\n",
       " 145,\n",
       " 146,\n",
       " 147,\n",
       " 148,\n",
       " 149,\n",
       " 150,\n",
       " 151,\n",
       " 153,\n",
       " 154,\n",
       " 155,\n",
       " 156,\n",
       " 157,\n",
       " 158,\n",
       " 159,\n",
       " 160,\n",
       " 161,\n",
       " 162,\n",
       " 163,\n",
       " 164,\n",
       " 165,\n",
       " 166,\n",
       " 167,\n",
       " 168,\n",
       " 169,\n",
       " 170,\n",
       " 171,\n",
       " 172,\n",
       " 173,\n",
       " 174,\n",
       " 175,\n",
       " 176,\n",
       " 177,\n",
       " 178,\n",
       " 179,\n",
       " 180,\n",
       " 181,\n",
       " 182,\n",
       " 183,\n",
       " 184,\n",
       " 185,\n",
       " 186,\n",
       " 187,\n",
       " 188,\n",
       " 189,\n",
       " 190,\n",
       " 191,\n",
       " 192,\n",
       " 193,\n",
       " 194,\n",
       " 195,\n",
       " 196,\n",
       " 197,\n",
       " 198,\n",
       " 199,\n",
       " 200,\n",
       " 201,\n",
       " 202,\n",
       " 203,\n",
       " 204,\n",
       " 205,\n",
       " 206,\n",
       " 207,\n",
       " 208,\n",
       " 209,\n",
       " 210,\n",
       " 211,\n",
       " 212,\n",
       " 213,\n",
       " 214,\n",
       " 215,\n",
       " 216,\n",
       " 217,\n",
       " 218,\n",
       " 219,\n",
       " 220,\n",
       " 221,\n",
       " 222,\n",
       " 223,\n",
       " 224,\n",
       " 225,\n",
       " 226,\n",
       " 227,\n",
       " 228,\n",
       " 229,\n",
       " 230,\n",
       " 231,\n",
       " 232,\n",
       " 233,\n",
       " 234,\n",
       " 235,\n",
       " 236,\n",
       " 237,\n",
       " 238,\n",
       " 239,\n",
       " 240,\n",
       " 241,\n",
       " 242,\n",
       " 243,\n",
       " 244,\n",
       " 245,\n",
       " 246,\n",
       " 247,\n",
       " 248,\n",
       " 249,\n",
       " 250,\n",
       " 251,\n",
       " 252,\n",
       " 253,\n",
       " 254,\n",
       " 255,\n",
       " 256,\n",
       " 257,\n",
       " 258,\n",
       " 259,\n",
       " 260,\n",
       " 261,\n",
       " 262,\n",
       " 263,\n",
       " 264,\n",
       " 265,\n",
       " 266,\n",
       " 267,\n",
       " 268,\n",
       " 269,\n",
       " 270,\n",
       " 271,\n",
       " 272,\n",
       " 273,\n",
       " 274,\n",
       " 275,\n",
       " 276,\n",
       " 277,\n",
       " 278,\n",
       " 279,\n",
       " 280,\n",
       " 281,\n",
       " 282,\n",
       " 283,\n",
       " 284,\n",
       " 285,\n",
       " 286,\n",
       " 287,\n",
       " 288,\n",
       " 289,\n",
       " 290,\n",
       " 291,\n",
       " 292,\n",
       " 293,\n",
       " 294,\n",
       " 295,\n",
       " 296,\n",
       " 297,\n",
       " 298,\n",
       " 299,\n",
       " 300,\n",
       " 301,\n",
       " 302,\n",
       " 303,\n",
       " 304,\n",
       " 305,\n",
       " 306,\n",
       " 307,\n",
       " 308,\n",
       " 309,\n",
       " 310,\n",
       " 311,\n",
       " 312,\n",
       " 313,\n",
       " 314,\n",
       " 315,\n",
       " 316,\n",
       " 317,\n",
       " 318,\n",
       " 319,\n",
       " 320,\n",
       " 321,\n",
       " 322,\n",
       " 323,\n",
       " 324,\n",
       " 325,\n",
       " 326,\n",
       " 327,\n",
       " 328,\n",
       " 329,\n",
       " 330,\n",
       " 331,\n",
       " 332,\n",
       " 333,\n",
       " 334,\n",
       " 335,\n",
       " 336,\n",
       " 337,\n",
       " 338,\n",
       " 339,\n",
       " 340,\n",
       " 341,\n",
       " 342,\n",
       " 343,\n",
       " 344,\n",
       " 345,\n",
       " 346,\n",
       " 347,\n",
       " 348,\n",
       " 349,\n",
       " 350,\n",
       " 351,\n",
       " 352,\n",
       " 353,\n",
       " 354,\n",
       " 355,\n",
       " 356,\n",
       " 357,\n",
       " 358,\n",
       " 359,\n",
       " 360,\n",
       " 361,\n",
       " 362,\n",
       " 363,\n",
       " 364,\n",
       " 365,\n",
       " 366,\n",
       " 367,\n",
       " 368,\n",
       " 369,\n",
       " 370,\n",
       " 371,\n",
       " 372,\n",
       " 373,\n",
       " 374]"
      ]
     },
     "execution_count": 30,
     "metadata": {},
     "output_type": "execute_result"
    }
   ],
   "source": [
    "ind_FS"
   ]
  },
  {
   "cell_type": "code",
   "execution_count": 31,
   "id": "8a0436cf",
   "metadata": {},
   "outputs": [
    {
     "data": {
      "text/plain": [
       "327"
      ]
     },
     "execution_count": 31,
     "metadata": {},
     "output_type": "execute_result"
    }
   ],
   "source": [
    "len(np.array(backbone_FS))"
   ]
  },
  {
   "cell_type": "code",
   "execution_count": 32,
   "id": "4b63a4a9",
   "metadata": {},
   "outputs": [
    {
     "data": {
      "text/plain": [
       "375"
      ]
     },
     "execution_count": 32,
     "metadata": {},
     "output_type": "execute_result"
    }
   ],
   "source": [
    "len(np.array(backbone_ref))"
   ]
  },
  {
   "cell_type": "code",
   "execution_count": 33,
   "id": "4b2b3a21",
   "metadata": {},
   "outputs": [],
   "source": [
    "rmsd_full_GS = md.rmsd(fullMSA, GS, atom_indices=np.array(backbone_ref)[np.array(ind_GS)], ref_atom_indices=np.array(backbone_GS))\n",
    "rmsd_full_FS=md.rmsd(fullMSA, FS, atom_indices=np.array(backbone_ref)[np.array(ind_FS)], ref_atom_indices=np.array(backbone_FS))"
   ]
  },
  {
   "cell_type": "code",
   "execution_count": 34,
   "id": "02fc1623",
   "metadata": {},
   "outputs": [],
   "source": [
    "rmsd_GS = md.rmsd(trajectory, GS, atom_indices=np.array(backbone_ref)[np.array(ind_GS)], ref_atom_indices=np.array(backbone_GS))\n",
    "rmsd_FS = md.rmsd(trajectory, FS, atom_indices=np.array(backbone_ref)[np.array(ind_FS)], ref_atom_indices=np.array(backbone_FS))\n"
   ]
  },
  {
   "cell_type": "code",
   "execution_count": 35,
   "id": "01140f75",
   "metadata": {},
   "outputs": [
    {
     "data": {
      "image/png": "[encoded data removed]",
      "text/plain": [
       "<Figure size 640x480 with 2 Axes>"
      ]
     },
     "metadata": {},
     "output_type": "display_data"
    }
   ],
   "source": [
    "import matplotlib.pyplot as plt\n",
    "\n",
    "plt.title(protein, fontsize=22)\n",
    "sc = plt.scatter(rmsd_GS * 10, rmsd_FS * 10, c=plddt, cmap='rainbow_r', vmin=50, vmax=90, s=cl_size*3, alpha=0.6)\n",
    "cbar = plt.colorbar(sc, label='plDDT')  # Create colorbar and set label\n",
    "\n",
    "# Set font size for colorbar label\n",
    "cbar.ax.yaxis.label.set_fontsize(15)\n",
    "\n",
    "# Plotting a different marker for a specific point\n",
    "plt.scatter(rmsd_full_GS * 10, rmsd_full_FS * 10, marker='*', s=300, label='fullMSA', color='grey')\n",
    "\n",
    "for i, (x, y) in enumerate(zip(rmsd_GS * 10, rmsd_FS * 10)):\n",
    "    plt.text(x, y, str(i+1), fontsize=10, ha='center', va='center', color='black')\n",
    "\n",
    "# Adding dashed lines\n",
    "#plt.axhline(y=4, color='black', linestyle='--')\n",
    "#plt.axvline(x=4, color='black', linestyle='--')\n",
    "\n",
    "# Setting limits and ticks for both axes\n",
    "#plt.xlim([0, 23])\n",
    "#plt.ylim([7, 22])\n",
    "#plt.xticks([4,8,12,16], fontsize=22)\n",
    "#plt.yticks([4,8,12,16], fontsize=22)\n",
    "\n",
    "# Adding labels and legend\n",
    "plt.xlabel('RMSD to '+pdb_GS+' (A°)', fontsize=22)\n",
    "plt.ylabel('RMSD to '+pdb_FS+' (A°)', fontsize=22)\n",
    "plt.legend(fontsize=15)\n",
    "\n",
    "plt.show()"
   ]
  },
  {
   "cell_type": "code",
   "execution_count": 37,
   "id": "18eda804",
   "metadata": {},
   "outputs": [
    {
     "data": {
      "image/png": "[encoded data removed]",
      "text/plain": [
       "<Figure size 640x480 with 2 Axes>"
      ]
     },
     "metadata": {},
     "output_type": "display_data"
    }
   ],
   "source": [
    "plt.title(protein, fontsize=22)\n",
    "sc = plt.scatter(rmsd_GS * 10, rmsd_FS * 10, c=plddt, cmap='rainbow_r', vmin=50, vmax=90, s=cl_size*3, alpha=0.6)\n",
    "cbar = plt.colorbar(sc, label='plDDT')  # Create colorbar and set label\n",
    "\n",
    "# Set font size for colorbar label\n",
    "cbar.ax.yaxis.label.set_fontsize(20)\n",
    "\n",
    "# Plotting a different marker for a specific point\n",
    "plt.scatter(rmsd_full_GS * 10, rmsd_full_FS * 10, marker='*', s=300, label='fullMSA', color='black')\n",
    "\n",
    "\n",
    "# Adding dashed lines\n",
    "#plt.axhline(y=4, color='black', linestyle='--')\n",
    "#plt.axvline(x=4, color='black', linestyle='--')\n",
    "\n",
    "# Setting limits and ticks for both axes\n",
    "#plt.xlim([0, 23])\n",
    "plt.ylim([3.6, 10])\n",
    "plt.xticks([4,8,12,16], fontsize=22)\n",
    "plt.yticks([4, 6,8,10], fontsize=22)\n",
    "\n",
    "# Adding labels and legend\n",
    "plt.xlabel('RMSD to '+pdb_GS+' (A°)', fontsize=20)\n",
    "plt.ylabel('RMSD to '+pdb_FS+' (A°)', fontsize=20)\n",
    "#plt.legend(fontsize=15)\n",
    "\n",
    "plt.show()"
   ]
  },
  {
   "cell_type": "code",
   "execution_count": 40,
   "id": "10854161",
   "metadata": {},
   "outputs": [
    {
     "data": {
      "text/plain": [
       "array([ 9, 12, 14, 15, 16, 17, 19, 21])"
      ]
     },
     "execution_count": 40,
     "metadata": {},
     "output_type": "execute_result"
    }
   ],
   "source": [
    "np.where(rmsd_GS<0.5)[0]+1"
   ]
  },
  {
   "cell_type": "code",
   "execution_count": 41,
   "id": "0d038aad",
   "metadata": {},
   "outputs": [
    {
     "data": {
      "text/plain": [
       "array([ 1,  2,  3,  4,  5,  6,  7,  8, 10, 11, 13, 18, 22, 23])"
      ]
     },
     "execution_count": 41,
     "metadata": {},
     "output_type": "execute_result"
    }
   ],
   "source": [
    "np.where(rmsd_FS<0.5)[0]+1"
   ]
  },
  {
   "cell_type": "code",
   "execution_count": null,
   "id": "6589476b",
   "metadata": {},
   "outputs": [],
   "source": []
  }
 ],
 "metadata": {
  "kernelspec": {
   "display_name": "Python 3 (ipykernel)",
   "language": "python",
   "name": "python3"
  },
  "language_info": {
   "codemirror_mode": {
    "name": "ipython",
    "version": 3
   },
   "file_extension": ".py",
   "mimetype": "text/x-python",
   "name": "python",
   "nbconvert_exporter": "python",
   "pygments_lexer": "ipython3",
   "version": "3.11.5"
  }
 },
 "nbformat": 4,
 "nbformat_minor": 5
}
