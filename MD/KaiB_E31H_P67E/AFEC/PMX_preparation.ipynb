{
 "cells": [
  {
   "cell_type": "code",
   "execution_count": 1,
   "id": "3acaf40b-dca1-451f-8e2c-510d9e2e5e33",
   "metadata": {},
   "outputs": [],
   "source": [
    "from pmx.model import Model\n",
    "from pmx.alchemy import mutate\n",
    "#export GMXLIB=/u/area/vpiomponi/.local/programs/pmx/src/pmx/data/mutff"
   ]
  },
  {
   "cell_type": "code",
   "execution_count": 2,
   "id": "9b174d29-8e97-45c1-9b6d-8ae414a4675a",
   "metadata": {},
   "outputs": [],
   "source": [
    "# load the PDB file\n",
    "m = Model('pmx_p67e.pdb', rename_atoms=True)\n",
    "# perform mutation\n",
    "m2 = mutate(m=m, mut_resid=31, mut_resname='H', ff='amber99sb-star-ildn-mut')\n",
    "m3 = mutate(m=m2, mut_resid=67, mut_resname='E', ff='amber99sb-star-ildn-mut')\n",
    "# save mutant PDB file\n",
    "m3.write('FS_mutant.pdb')"
   ]
  },
  {
   "cell_type": "code",
   "execution_count": 23,
   "id": "0b4e49ce-8698-4965-b3d2-dcff838d0fb2",
   "metadata": {},
   "outputs": [],
   "source": [
    "# load the PDB file\n",
    "m = Model('FS_mutant.pdb', rename_atoms=True)\n",
    "# perform mutation\n",
    "m2 = mutate(m=m, mut_resid=122, mut_resname='H', ff='amber99sb-star-ildn-mut')\n",
    "m3 = mutate(m=m2, mut_resid=158, mut_resname='P', ff='amber99sb-star-ildn-mut')\n",
    "# save mutant PDB file\n",
    "m3.write('double_hybrid.pdb')"
   ]
  },
  {
   "cell_type": "code",
   "execution_count": 5,
   "id": "af5f59d5-81de-473b-bf91-2c28aacbe417",
   "metadata": {},
   "outputs": [],
   "source": [
    "#gmx_mpi pdb2gmx -f double_hybrid.pdb -merge all\n",
    "from pmx import *\n",
    "\n",
    "topol = Topology('topol.top')\n",
    "pmxtop, _ = gen_hybrid_top(topol)\n",
    "pmxtop.write('newtop.top')"
   ]
  },
  {
   "cell_type": "code",
   "execution_count": 6,
   "id": "02c9430f-9a63-4636-a9cb-0cf13cb5a5e4",
   "metadata": {},
   "outputs": [],
   "source": [
    "#exchange by hand parametrization of 122 E2H, to make it a H2E)"
   ]
  },
  {
   "cell_type": "code",
   "execution_count": null,
   "id": "46172bea-7c84-4c6d-85ee-52ddb618c885",
   "metadata": {},
   "outputs": [],
   "source": []
  }
 ],
 "metadata": {
  "kernelspec": {
   "display_name": "Python 3 (ipykernel)",
   "language": "python",
   "name": "python3"
  },
  "language_info": {
   "codemirror_mode": {
    "name": "ipython",
    "version": 3
   },
   "file_extension": ".py",
   "mimetype": "text/x-python",
   "name": "python",
   "nbconvert_exporter": "python",
   "pygments_lexer": "ipython3",
   "version": "3.10.15"
  }
 },
 "nbformat": 4,
 "nbformat_minor": 5
}
