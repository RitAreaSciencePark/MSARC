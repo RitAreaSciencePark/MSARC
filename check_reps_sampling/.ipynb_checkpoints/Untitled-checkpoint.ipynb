{
 "cells": [
  {
   "cell_type": "code",
   "execution_count": 7,
   "id": "85457a62-d871-491f-9058-16134aa470ec",
   "metadata": {},
   "outputs": [],
   "source": [
    "import matplotlib.pyplot as plt\n",
    "import seaborn as sns\n",
    "import numpy as np\n",
    "import pandas as pd\n",
    "import os\n",
    "from scipy.stats import pearsonr, spearmanr"
   ]
  },
  {
   "cell_type": "code",
   "execution_count": 12,
   "id": "e103437b-ef8f-4f3a-93fd-45741666ef0d",
   "metadata": {
    "scrolled": true
   },
   "outputs": [],
   "source": [
    "def read_dist_ids(pdb):\n",
    "    \n",
    "    path = pdb + '/reps_MSATransformer/'\n",
    "    matrix_dir = os.listdir(path)\n",
    "    \n",
    "    matrices = []\n",
    "    ids_merg = []\n",
    "    for i,m in enumerate(matrix_dir):\n",
    "        matrix = np.load(path + m + '/dist.npy') \n",
    "        ids = []\n",
    "        for j,name in enumerate(os.listdir(path + m + '/reps/')):\n",
    "            if j == 0:\n",
    "                ids.append(np.load(path + m + '/ids/'+ name))\n",
    "            else:\n",
    "                ids.append(np.load(path + m + '/ids/'+ name)[1:])\n",
    "        matrices.append(matrix)\n",
    "        ids_merg.append([id_m for id_m in ids])\n",
    "\n",
    "    return matrices, ids_merg"
   ]
  },
  {
   "cell_type": "code",
   "execution_count": 19,
   "id": "09759ca2-e728-4cd6-bd85-bf0699e424c9",
   "metadata": {},
   "outputs": [],
   "source": [
    "def order_matrices(matrices, ids_merg):\n",
    "    \n",
    "    matrix_ref = matrices[0]\n",
    "    ids_ref = [val for idx in ids_merg[0] for val in idx]\n",
    "    \n",
    "    ordered = []\n",
    "    triu_ids = np.triu_indices(matrix_ref.shape[0], k=1) \n",
    "    ordered.append(matrix_ref[triu_ids].flatten())\n",
    "    \n",
    "    for i in range(1,len(matrices)):\n",
    "        \n",
    "        ids_no_order = [val for idx in ids_merg[i] for val in idx]\n",
    "        indices = [ids_no_order.index(item) for item in ids_ref]\n",
    "        sel_matrix = matrices[i]\n",
    "        ordered_matrix = sel_matrix[indices,:][:,indices]\n",
    "        \n",
    "        triu_ids = np.triu_indices(ordered_matrix.shape[0], k=1) \n",
    "        ordered.append(ordered_matrix[triu_ids].flatten())\n",
    "\n",
    "    return ordered"
   ]
  },
  {
   "cell_type": "code",
   "execution_count": 29,
   "id": "d46f71ea-b9ce-4e0e-8f43-90477cd84d88",
   "metadata": {},
   "outputs": [],
   "source": [
    "def pearsonr_pairs(ordered):\n",
    "    \n",
    "    rows = len(ordered)-30\n",
    "    corrs = []\n",
    "    pvals = []\n",
    "    for i in range(rows-1):\n",
    "        for j in range(i+1, rows):\n",
    "            \n",
    "            vec1 = ordered[i]\n",
    "            vec2 = ordered[j]\n",
    "           # corr, pval = pearsonr(vec1, vec2)\n",
    "            corr, pval = spearmanr(vec1, vec2)\n",
    "            corrs.append(corr)\n",
    "            pvals.append(pval)\n",
    "    return corrs, pvals"
   ]
  },
  {
   "cell_type": "code",
   "execution_count": 31,
   "id": "eef0d458-5faf-42b7-815f-80828c07974d",
   "metadata": {},
   "outputs": [
    {
     "name": "stdout",
     "output_type": "stream",
     "text": [
      "Mad2 0.8045739337939242 0.013849470544411931 0.0 0.0\n",
      "KB 0.8603276936705659 0.004843570315544147 0.0 0.0\n"
     ]
    }
   ],
   "source": [
    "pdbs = ['Mad2', 'KB', 'RfaH']\n",
    "for pdb in pdbs:\n",
    "    matrices, ids_merg = read_dist_ids(pdb)\n",
    "    ordered = order_matrices(matrices, ids_merg)\n",
    "    corrs, pvals = pearsonr_pairs(ordered)\n",
    "    print(pdb, np.mean(corrs), np.std(corrs), np.mean(pvals), np.std(pvals))"
   ]
  }
 ],
 "metadata": {
  "kernelspec": {
   "display_name": "Python 3 (ipykernel)",
   "language": "python",
   "name": "python3"
  },
  "language_info": {
   "codemirror_mode": {
    "name": "ipython",
    "version": 3
   },
   "file_extension": ".py",
   "mimetype": "text/x-python",
   "name": "python",
   "nbconvert_exporter": "python",
   "pygments_lexer": "ipython3",
   "version": "3.10.14"
  }
 },
 "nbformat": 4,
 "nbformat_minor": 5
}
